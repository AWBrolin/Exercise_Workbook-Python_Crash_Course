{
 "cells": [
  {
   "cell_type": "markdown",
   "id": "67109e24",
   "metadata": {},
   "source": [
    "# Python Crash Course - Chapter 8: Functions\n",
    "\n",
    "This notebook contains exercises from Chapter 8 of Python Crash Course by Eric Matthes. Each exercise focuses on defining and using functions to organize and reuse code.\n",
    "\n",
    "## Learning Objectives:\n",
    "- Define functions with def statement\n",
    "- Pass information to functions with arguments\n",
    "- Use positional and keyword arguments\n",
    "- Set default values for parameters\n",
    "- Return values from functions\n",
    "- Work with lists and dictionaries in functions\n",
    "- Import functions from modules\n",
    "\n",
    "---\n",
    "\n",
    "## 8-1 Message"
   ]
  },
  {
   "cell_type": "code",
   "execution_count": null,
   "id": "31b980a9",
   "metadata": {},
   "outputs": [],
   "source": [
    "# Exercise 8-1: Message\n",
    "# Write a function called display_message() that prints one sentence telling everyone\n",
    "# what you are learning about in this chapter. Call the function, and make sure the message displays correctly.\n",
    "\n",
    "# Here I will write the code and corresponding comments to complete the training tasks\n"
   ]
  },
  {
   "cell_type": "markdown",
   "id": "b8b34af9",
   "metadata": {},
   "source": [
    "## 8-2 Favorite Book"
   ]
  },
  {
   "cell_type": "code",
   "execution_count": null,
   "id": "512ff6cf",
   "metadata": {},
   "outputs": [],
   "source": [
    "# Exercise 8-2: Favorite Book\n",
    "# Write a function called favorite_book() that accepts one parameter, title.\n",
    "# The function should print a message, such as \"One of my favorite books is Alice in Wonderland.\"\n",
    "# Call the function, making sure to include a book title as an argument in the function call.\n",
    "\n",
    "# Here I will write the code and corresponding comments to complete the training tasks\n"
   ]
  },
  {
   "cell_type": "markdown",
   "id": "94f92e41",
   "metadata": {},
   "source": [
    "## 8-3 T-Shirt"
   ]
  },
  {
   "cell_type": "code",
   "execution_count": null,
   "id": "d73bea6b",
   "metadata": {},
   "outputs": [],
   "source": [
    "# Exercise 8-3: T-Shirt\n",
    "# Write a function called make_shirt() that accepts a size and the text of a message\n",
    "# that should be printed on the shirt. The function should print a sentence summarizing\n",
    "# the size of the shirt and the message printed on it.\n",
    "# Call the function once using positional arguments to make a shirt.\n",
    "# Call the function a second time using keyword arguments.\n",
    "\n",
    "# Here I will write the code and corresponding comments to complete the training tasks\n"
   ]
  },
  {
   "cell_type": "markdown",
   "id": "775ee7aa",
   "metadata": {},
   "source": [
    "## 8-4 Large Shirts"
   ]
  },
  {
   "cell_type": "code",
   "execution_count": null,
   "id": "f5040bc6",
   "metadata": {},
   "outputs": [],
   "source": [
    "# Exercise 8-4: Large Shirts\n",
    "# Modify the make_shirt() function so that shirts are large by default with a message\n",
    "# that reads \"I love Python.\" Make a large shirt and a medium shirt with the default message,\n",
    "# and a shirt of any size with a different message.\n",
    "\n",
    "# Here I will write the code and corresponding comments to complete the training tasks\n"
   ]
  },
  {
   "cell_type": "markdown",
   "id": "84a914c0",
   "metadata": {},
   "source": [
    "## 8-5 Cities"
   ]
  },
  {
   "cell_type": "code",
   "execution_count": null,
   "id": "afa41045",
   "metadata": {},
   "outputs": [],
   "source": [
    "# Exercise 8-5: Cities\n",
    "# Write a function called describe_city() that accepts the name of a city and its country.\n",
    "# The function should print a simple sentence, such as \"Reykjavik is in Iceland.\"\n",
    "# Give the parameter for the country a default value.\n",
    "# Call your function for three different cities, at least one of which is not in the default country.\n",
    "\n",
    "# Here I will write the code and corresponding comments to complete the training tasks\n"
   ]
  },
  {
   "cell_type": "markdown",
   "id": "7490c7b7",
   "metadata": {},
   "source": [
    "## 8-6 City Names"
   ]
  },
  {
   "cell_type": "code",
   "execution_count": null,
   "id": "f8ab92a6",
   "metadata": {},
   "outputs": [],
   "source": [
    "# Exercise 8-6: City Names\n",
    "# Write a function called city_country() that takes in the name of a city and its country.\n",
    "# The function should return a string formatted like this: \"Santiago, Chile\"\n",
    "# Call your function with at least three city-country pairs, and print the value\n",
    "# that's returned.\n",
    "\n",
    "# Here I will write the code and corresponding comments to complete the training tasks\n"
   ]
  },
  {
   "cell_type": "markdown",
   "id": "91c62577",
   "metadata": {},
   "source": [
    "## 8-7 Album"
   ]
  },
  {
   "cell_type": "code",
   "execution_count": null,
   "id": "1566ee81",
   "metadata": {},
   "outputs": [],
   "source": [
    "# Exercise 8-7: Album\n",
    "# Write a function called make_album() that builds a dictionary describing a music album.\n",
    "# The function should take in an artist name and an album title, and it should return\n",
    "# a dictionary containing these two pieces of information.\n",
    "# Use the function to make three dictionaries representing different albums.\n",
    "# Print each return value to show that the dictionaries are storing the album information correctly.\n",
    "# Add an optional parameter to make_album() that allows you to store the number of tracks on an album.\n",
    "# If the calling line includes a value for the number of tracks, add that value to the album's dictionary.\n",
    "# Make at least one new function call that includes the number of tracks on an album.\n",
    "\n",
    "# Here I will write the code and corresponding comments to complete the training tasks\n"
   ]
  },
  {
   "cell_type": "markdown",
   "id": "01f3f7ab",
   "metadata": {},
   "source": [
    "## 8-8 User Albums"
   ]
  },
  {
   "cell_type": "code",
   "execution_count": null,
   "id": "32fd090e",
   "metadata": {},
   "outputs": [],
   "source": [
    "# Exercise 8-8: User Albums\n",
    "# Start with your program from Exercise 8-7. Write a while loop that allows users\n",
    "# to enter an album's artist and title. Once you have that information, call make_album()\n",
    "# with the user's input and print the dictionary that's created.\n",
    "# Be sure to include a quit value in the while loop.\n",
    "\n",
    "# Here I will write the code and corresponding comments to complete the training tasks\n"
   ]
  },
  {
   "cell_type": "markdown",
   "id": "e73c7c2f",
   "metadata": {},
   "source": [
    "## 8-9 Messages"
   ]
  },
  {
   "cell_type": "code",
   "execution_count": null,
   "id": "91f014fd",
   "metadata": {},
   "outputs": [],
   "source": [
    "# Exercise 8-9: Messages\n",
    "# Make a list containing a series of short text messages.\n",
    "# Pass the list to a function called show_messages(), which prints each text message.\n",
    "\n",
    "# Here I will write the code and corresponding comments to complete the training tasks\n"
   ]
  },
  {
   "cell_type": "markdown",
   "id": "edb08dcd",
   "metadata": {},
   "source": [
    "## 8-10 Sending Messages"
   ]
  },
  {
   "cell_type": "code",
   "execution_count": null,
   "id": "0f7ccd11",
   "metadata": {},
   "outputs": [],
   "source": [
    "# Exercise 8-10: Sending Messages\n",
    "# Start with a copy of your program from Exercise 8-9.\n",
    "# Write a function called send_messages() that prints each text message and\n",
    "# moves each message to a new list called sent_messages as it's printed.\n",
    "# After calling the function, print both of your lists to make sure the messages\n",
    "# were moved correctly.\n",
    "\n",
    "# Here I will write the code and corresponding comments to complete the training tasks\n"
   ]
  },
  {
   "cell_type": "markdown",
   "id": "83beef76",
   "metadata": {},
   "source": [
    "## 8-11 Archived Messages"
   ]
  },
  {
   "cell_type": "code",
   "execution_count": null,
   "id": "e4188567",
   "metadata": {},
   "outputs": [],
   "source": [
    "# Exercise 8-11: Archived Messages\n",
    "# Start with your work from Exercise 8-10. Call the function send_messages()\n",
    "# with a copy of the list of messages. After calling the function, print both of your lists\n",
    "# to show that the original list has retained its messages.\n",
    "\n",
    "# Here I will write the code and corresponding comments to complete the training tasks\n"
   ]
  },
  {
   "cell_type": "markdown",
   "id": "53bb1098",
   "metadata": {},
   "source": [
    "## 8-12 Sandwiches"
   ]
  },
  {
   "cell_type": "code",
   "execution_count": null,
   "id": "8c6c80ea",
   "metadata": {},
   "outputs": [],
   "source": [
    "# Exercise 8-12: Sandwiches\n",
    "# Write a function that accepts a list of items a person wants on a sandwich.\n",
    "# The function should have one parameter that collects as many arguments as\n",
    "# the function call provides, and it should print a summary of the sandwich being ordered.\n",
    "# Call the function three times, using a different number of arguments each time.\n",
    "\n",
    "# Here I will write the code and corresponding comments to complete the training tasks\n"
   ]
  },
  {
   "cell_type": "markdown",
   "id": "f611f344",
   "metadata": {},
   "source": [
    "## 8-13 User Profile"
   ]
  },
  {
   "cell_type": "code",
   "execution_count": null,
   "id": "856f4f60",
   "metadata": {},
   "outputs": [],
   "source": [
    "# Exercise 8-13: User Profile\n",
    "# Start with a copy of user_profile.py from page 149.\n",
    "# Build a profile of yourself by calling build_profile() with your first and last names\n",
    "# and three other key-value pairs that describe you.\n",
    "\n",
    "# Here I will write the code and corresponding comments to complete the training tasks\n"
   ]
  },
  {
   "cell_type": "markdown",
   "id": "029a0f81",
   "metadata": {},
   "source": [
    "## 8-14 Cars"
   ]
  },
  {
   "cell_type": "code",
   "execution_count": null,
   "id": "51594acc",
   "metadata": {},
   "outputs": [],
   "source": [
    "# Exercise 8-14: Cars\n",
    "# Write a function that stores information about a car in a dictionary.\n",
    "# The function should always receive a manufacturer and a model name.\n",
    "# It should then accept an arbitrary number of keyword arguments.\n",
    "# Call the function with the required information and two other name-value pairs,\n",
    "# such as a color or an optional feature.\n",
    "# Your function should work for a call like this one:\n",
    "# car = make_car('subaru', 'outback', color='blue', tow_package=True)\n",
    "# Print the dictionary that's returned to make sure all the information was stored correctly.\n",
    "\n",
    "# Here I will write the code and corresponding comments to complete the training tasks\n"
   ]
  },
  {
   "cell_type": "markdown",
   "id": "1504aa80",
   "metadata": {},
   "source": [
    "## 8-15 Printing Models"
   ]
  },
  {
   "cell_type": "code",
   "execution_count": null,
   "id": "464f5dce",
   "metadata": {},
   "outputs": [],
   "source": [
    "# Exercise 8-15: Printing Models\n",
    "# Put the functions for the example printing_models.py in a separate file called printing_functions.py.\n",
    "# Write an import statement at the top of printing_models.py, and modify the main program\n",
    "# to use the imported functions.\n",
    "\n",
    "# Here I will write the code and corresponding comments to complete the training tasks\n"
   ]
  },
  {
   "cell_type": "markdown",
   "id": "ff835d72",
   "metadata": {},
   "source": [
    "## 8-16 Imports"
   ]
  },
  {
   "cell_type": "code",
   "execution_count": null,
   "id": "849a45ec",
   "metadata": {},
   "outputs": [],
   "source": [
    "# Exercise 8-16: Imports\n",
    "# Using a program you wrote that has one function in it, store that function in a separate file.\n",
    "# Import the function into your main program file, and call the function using each of these approaches:\n",
    "# • import module_name\n",
    "# • from module_name import function_name\n",
    "# • from module_name import function_name as fn\n",
    "# • import module_name as mn\n",
    "# • from module_name import *\n",
    "\n",
    "# Here I will write the code and corresponding comments to complete the training tasks\n"
   ]
  },
  {
   "cell_type": "markdown",
   "id": "b7ac1e1d",
   "metadata": {},
   "source": [
    "## 8-17 Styling Functions"
   ]
  },
  {
   "cell_type": "code",
   "execution_count": null,
   "id": "6d479c6e",
   "metadata": {},
   "outputs": [],
   "source": [
    "# Exercise 8-17: Styling Functions\n",
    "# Choose any three programs you wrote for this chapter, and make sure they follow the guidelines\n",
    "# described in the Functions section of PEP 8. For each function, you should:\n",
    "# • Use lowercase and underscores for function names\n",
    "# • Include a docstring immediately after the function definition\n",
    "# • Use spaces around operators and after commas in default values\n",
    "# • Limit lines to 79 characters\n",
    "# • Separate functions with two blank lines\n",
    "\n",
    "# Here I will write the code and corresponding comments to complete the training tasks\n"
   ]
  },
  {
   "cell_type": "markdown",
   "id": "24f18b67",
   "metadata": {},
   "source": [
    "---\n",
    "\n",
    "## Summary\n",
    "\n",
    "Congratulations! You've completed all the exercises for Chapter 8 on Functions. You should now be comfortable with:\n",
    "\n",
    "- Defining functions with the `def` statement\n",
    "- Passing arguments to functions (positional and keyword)\n",
    "- Setting default parameter values\n",
    "- Returning values from functions\n",
    "- Using `*args` for arbitrary positional arguments\n",
    "- Using `**kwargs` for arbitrary keyword arguments\n",
    "- Importing functions from modules\n",
    "- Following PEP 8 style guidelines for functions\n",
    "\n",
    "**Key Concepts Practiced:**\n",
    "- Function definition syntax: `def function_name(parameters):`\n",
    "- Docstrings for function documentation\n",
    "- Parameter types: positional, keyword, default values\n",
    "- Arbitrary arguments: `*args` and `**kwargs`\n",
    "- Return statements and return values\n",
    "- Module imports and function organization\n",
    "- Code style and readability best practices\n",
    "\n",
    "**Important Principles:**\n",
    "- Functions should do one thing well (single responsibility)\n",
    "- Use descriptive function and parameter names\n",
    "- Include docstrings to document function behavior\n",
    "- Consider using default values for optional parameters\n",
    "- Be careful when modifying lists passed to functions\n",
    "\n",
    "**Next Steps:**\n",
    "- Review any exercises you found challenging\n",
    "- Practice breaking down complex problems into functions\n",
    "- Experiment with different parameter combinations\n",
    "- Move on to Chapter 9: Classes\n",
    "\n",
    "---\n",
    "\n",
    "*Note: Functions are fundamental building blocks of good Python code. Master them well, as they'll make your programs more organized, reusable, and easier to test!*"
   ]
  },
  {
   "cell_type": "markdown",
   "id": "f469e595",
   "metadata": {},
   "source": [
    "---\n",
    "\n",
    "> Exercises adapted from _Python Crash Course_ by Eric Matthes  \n",
    "> Structured and formatted by Alexander W. Brolin for interactive learning."
   ]
  }
 ],
 "metadata": {
  "language_info": {
   "name": "python"
  }
 },
 "nbformat": 4,
 "nbformat_minor": 5
}
