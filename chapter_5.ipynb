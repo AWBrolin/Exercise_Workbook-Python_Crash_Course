{
 "cells": [
  {
   "cell_type": "markdown",
   "id": "86245d0a",
   "metadata": {},
   "source": [
    "# Python Crash Course - Chapter 5: If Statements\n",
    "\n",
    "This notebook contains exercises from Chapter 5 of Python Crash Course by Eric Matthes. Each exercise focuses on working with conditional statements and boolean logic.\n",
    "\n",
    "## Learning Objectives:\n",
    "- Write conditional tests using comparison operators\n",
    "- Combine tests using `and` and `or`\n",
    "- Use if, elif, and else statements\n",
    "- Test for values and membership in lists\n",
    "- Handle empty lists and user input validation\n",
    "- Apply conditional logic to real-world scenarios\n",
    "\n",
    "---\n",
    "\n",
    "## 5-1 Conditional Tests"
   ]
  },
  {
   "cell_type": "code",
   "execution_count": null,
   "id": "2f330e7c",
   "metadata": {},
   "outputs": [],
   "source": [
    "# Exercise 5-1: Conditional Tests\n",
    "# Write a series of conditional tests. Print a statement describing each test and your prediction\n",
    "# for the results of each test. Your code should look something like this:\n",
    "# car = 'subaru'\n",
    "# print(\"Is car == 'subaru'? I predict True.\")\n",
    "# print(car == 'subaru')\n",
    "# print(\"\\nIs car == 'audi'? I predict False.\")\n",
    "# print(car == 'audi')\n",
    "# • Look closely at your results, and make sure you understand why each line evaluates to True or False.\n",
    "# • Create at least 10 tests. Have at least 5 tests evaluate to True and another 5 tests evaluate to False.\n",
    "\n",
    "# Here I will write the code and corresponding comments to complete the training tasks\n"
   ]
  },
  {
   "cell_type": "markdown",
   "id": "dee7830d",
   "metadata": {},
   "source": [
    "## 5-2 More Conditional Tests"
   ]
  },
  {
   "cell_type": "code",
   "execution_count": null,
   "id": "8463d33e",
   "metadata": {},
   "outputs": [],
   "source": [
    "# Exercise 5-2: More Conditional Tests\n",
    "# You don't have to limit the number of tests you create to 10. If you want to try more comparisons,\n",
    "# write more tests and add them to conditional_tests.py. Have at least one True and one False result\n",
    "# for each of the following:\n",
    "# • Tests for equality and inequality with strings\n",
    "# • Tests using the lower() function\n",
    "# • Numerical tests involving equality, inequality, greater than and less than,\n",
    "#   greater than or equal to, and less than or equal to\n",
    "# • Tests using the and keyword and the or keyword\n",
    "# • Test whether an item is in a list\n",
    "# • Test whether an item is not in a list\n",
    "\n",
    "# Here I will write the code and corresponding comments to complete the training tasks\n"
   ]
  },
  {
   "cell_type": "markdown",
   "id": "96697243",
   "metadata": {},
   "source": [
    "## 5-3 Alien Colors #1"
   ]
  },
  {
   "cell_type": "code",
   "execution_count": null,
   "id": "f6dd1ef1",
   "metadata": {},
   "outputs": [],
   "source": [
    "# Exercise 5-3: Alien Colors #1\n",
    "# Imagine an alien was just shot down in a game. Create a variable called alien_color\n",
    "# and assign it a value of 'green', 'yellow', or 'red'.\n",
    "# • Write an if statement to test whether the alien's color is green.\n",
    "# If it is, print a message that the player just earned 5 points.\n",
    "# • Write one version of this program that passes the if test and another that fails.\n",
    "# (The output of one version should be the message, and the output of the other version should be nothing.)\n",
    "\n",
    "# Here I will write the code and corresponding comments to complete the training tasks\n"
   ]
  },
  {
   "cell_type": "markdown",
   "id": "834aefc6",
   "metadata": {},
   "source": [
    "## 5-4 Alien Colors #2"
   ]
  },
  {
   "cell_type": "code",
   "execution_count": null,
   "id": "b9f82a5e",
   "metadata": {},
   "outputs": [],
   "source": [
    "# Exercise 5-4: Alien Colors #2\n",
    "# Choose a color for an alien as you did in Exercise 5-3, and write an if-else chain.\n",
    "# • If the alien's color is green, print a statement that the player just earned 5 points for shooting the alien.\n",
    "# • If the alien's color isn't green, print a statement that the player just earned 10 points.\n",
    "# • Write one version of this program that runs the if block and another that runs the else block.\n",
    "\n",
    "# Here I will write the code and corresponding comments to complete the training tasks\n"
   ]
  },
  {
   "cell_type": "markdown",
   "id": "d62e4340",
   "metadata": {},
   "source": [
    "## 5-5 Alien Colors #3"
   ]
  },
  {
   "cell_type": "code",
   "execution_count": null,
   "id": "97c20cc4",
   "metadata": {},
   "outputs": [],
   "source": [
    "# Exercise 5-5: Alien Colors #3\n",
    "# Turn your if-else chain from Exercise 5-4 into an if-elif-else chain.\n",
    "# • If the alien is green, print a message that the player earned 5 points.\n",
    "# • If the alien is yellow, print a message that the player earned 10 points.\n",
    "# • If the alien is red, print a message that the player earned 15 points.\n",
    "# • Write three versions of this program, making sure each message is printed for the appropriate color alien.\n",
    "\n",
    "# Here I will write the code and corresponding comments to complete the training tasks\n"
   ]
  },
  {
   "cell_type": "markdown",
   "id": "f1c5d7fb",
   "metadata": {},
   "source": [
    "## 5-6 Stages of Life"
   ]
  },
  {
   "cell_type": "code",
   "execution_count": null,
   "id": "871111d4",
   "metadata": {},
   "outputs": [],
   "source": [
    "# Exercise 5-6: Stages of Life\n",
    "# Write an if-elif-else chain that determines a person's stage of life. Set a value for the variable age, and then:\n",
    "# • If the person is less than 2 years old, print a message that the person is a baby.\n",
    "# • If the person is at least 2 years old but less than 4, print a message that the person is a toddler.\n",
    "# • If the person is at least 4 years old but less than 13, print a message that the person is a kid.\n",
    "# • If the person is at least 13 years old but less than 20, print a message that the person is a teenager.\n",
    "# • If the person is at least 20 years old but less than 65, print a message that the person is an adult.\n",
    "# • If the person is age 65 or older, print a message that the person is an elder.\n",
    "\n",
    "# Here I will write the code and corresponding comments to complete the training tasks\n"
   ]
  },
  {
   "cell_type": "markdown",
   "id": "ef6d881e",
   "metadata": {},
   "source": [
    "## 5-7 Favorite Fruit"
   ]
  },
  {
   "cell_type": "code",
   "execution_count": null,
   "id": "f51db5af",
   "metadata": {},
   "outputs": [],
   "source": [
    "# Exercise 5-7: Favorite Fruit\n",
    "# Make a list of your three favorite fruits and call it favorite_fruits.\n",
    "# Write a series of independent if statements that check for certain fruits in your list.\n",
    "# • Make a list of three fruits and call it fruits_to_check.\n",
    "# • Write an if statement for each fruit in fruits_to_check. In each if statement,\n",
    "#   check whether each fruit is in your list of favorite fruits.\n",
    "#   If the fruit is in your list, print a message like \"You really like bananas!\"\n",
    "\n",
    "# Here I will write the code and corresponding comments to complete the training tasks\n"
   ]
  },
  {
   "cell_type": "markdown",
   "id": "1109931d",
   "metadata": {},
   "source": [
    "## 5-8 Hello Admin"
   ]
  },
  {
   "cell_type": "code",
   "execution_count": null,
   "id": "fe61cd12",
   "metadata": {},
   "outputs": [],
   "source": [
    "# Exercise 5-8: Hello Admin\n",
    "# Make a list of five or more usernames, including the name 'admin'.\n",
    "# Imagine you are writing code that will print a greeting to each user after they log in.\n",
    "# • Loop through the list, and print a greeting to each user.\n",
    "# • If the username is 'admin', print a special greeting, such as \"Hello admin, would you like to see a status report?\"\n",
    "# • Otherwise, print a generic greeting, such as \"Hello Jaden, thank you for logging in again.\"\n",
    "\n",
    "# Here I will write the code and corresponding comments to complete the training tasks\n"
   ]
  },
  {
   "cell_type": "markdown",
   "id": "3c5c18d3",
   "metadata": {},
   "source": [
    "## 5-9 No Users"
   ]
  },
  {
   "cell_type": "code",
   "execution_count": null,
   "id": "eab80a9e",
   "metadata": {},
   "outputs": [],
   "source": [
    "# Exercise 5-9: No Users\n",
    "# Add an if test to hello_admin.py to make sure the list of users is not empty.\n",
    "# • If the list is empty, print the message \"We need to find some users!\"\n",
    "# • Remove all of the usernames from your list, and make sure the correct message is printed.\n",
    "\n",
    "# Here I will write the code and corresponding comments to complete the training tasks\n"
   ]
  },
  {
   "cell_type": "markdown",
   "id": "4c69bd66",
   "metadata": {},
   "source": [
    "## 5-10 Checking Usernames"
   ]
  },
  {
   "cell_type": "code",
   "execution_count": null,
   "id": "8fc6f9c4",
   "metadata": {},
   "outputs": [],
   "source": [
    "# Exercise 5-10: Checking Usernames\n",
    "# Do the following to create a program that simulates how websites ensure that everyone has a unique username.\n",
    "# • Make a list of five or more usernames called current_users.\n",
    "# • Make another list of five usernames called new_users. Make sure one or two of the new usernames\n",
    "#   are also in the current_users list.\n",
    "# • Loop through the new_users list to see if each new username has already been used.\n",
    "#   If it has, print a message that the person will need to enter a new username.\n",
    "#   If a username has not been used, print a message saying that the username is available.\n",
    "# • Make sure your comparison is case insensitive. If 'John' has been used, 'JOHN' should not be accepted.\n",
    "\n",
    "# Here I will write the code and corresponding comments to complete the training tasks\n"
   ]
  },
  {
   "cell_type": "markdown",
   "id": "b98d9b45",
   "metadata": {},
   "source": [
    "## 5-11 Ordinal Numbers"
   ]
  },
  {
   "cell_type": "code",
   "execution_count": null,
   "id": "729f9a80",
   "metadata": {},
   "outputs": [],
   "source": [
    "# Exercise 5-11: Ordinal Numbers\n",
    "# Ordinal numbers indicate their position in a list, such as 1st or 2nd.\n",
    "# Most ordinal numbers end in th, except 1, 2, and 3.\n",
    "# • Store the numbers 1 through 9 in a list.\n",
    "# • Loop through the list.\n",
    "# • Use an if-elif-else chain inside the loop to print the proper ordinal ending for each number.\n",
    "#   Your output should read \"1st 2nd 3rd 4th 5th 6th 7th 8th 9th\", and each result should be on a separate line.\n",
    "\n",
    "# Here I will write the code and corresponding comments to complete the training tasks\n"
   ]
  },
  {
   "cell_type": "markdown",
   "id": "be789956",
   "metadata": {},
   "source": [
    "---\n",
    "\n",
    "## Summary\n",
    "\n",
    "Congratulations! You've completed all the exercises for Chapter 5 on If Statements. You should now be comfortable with:\n",
    "\n",
    "- Writing conditional tests using comparison operators\n",
    "- Using logical operators (`and`, `or`, `not`)\n",
    "- Creating if, elif, and else statements\n",
    "- Testing for membership in lists (`in`, `not in`)\n",
    "- Handling different data types in conditions\n",
    "- Working with empty lists and user validation\n",
    "\n",
    "**Key Concepts Practiced:**\n",
    "- Comparison operators: `==`, `!=`, `<`, `>`, `<=`, `>=`\n",
    "- Logical operators: `and`, `or`, `not`\n",
    "- Conditional statement structure: `if`, `elif`, `else`\n",
    "- List membership testing: `item in list`, `item not in list`\n",
    "- Case-insensitive string comparisons using `.lower()`\n",
    "- Boolean evaluation and truthiness\n",
    "\n",
    "**Next Steps:**\n",
    "- Review any exercises you found challenging\n",
    "- Practice writing more complex conditional logic\n",
    "- Combine conditionals with loops for powerful programs\n",
    "- Move on to Chapter 6: Dictionaries\n",
    "\n",
    "---\n",
    "\n",
    "*Note: Understanding conditional logic is fundamental to programming. These patterns will appear in almost every program you write!*"
   ]
  },
  {
   "cell_type": "markdown",
   "id": "4e2baa1b",
   "metadata": {},
   "source": [
    "---\n",
    "\n",
    "> Exercises adapted from _Python Crash Course_ by Eric Matthes  \n",
    "> Structured and formatted by Alexander W. Brolin for interactive learning."
   ]
  }
 ],
 "metadata": {
  "language_info": {
   "name": "python"
  }
 },
 "nbformat": 4,
 "nbformat_minor": 5
}
