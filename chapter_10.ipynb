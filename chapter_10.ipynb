{
 "cells": [
  {
   "cell_type": "markdown",
   "id": "b57f431c",
   "metadata": {},
   "source": [
    "# Python Crash Course - Chapter 10: Files and Exceptions\n",
    "\n",
    "This notebook contains exercises from Chapter 10 of Python Crash Course by Eric Matthes. Each exercise focuses on reading from and writing to files, handling exceptions, and working with file data.\n",
    "\n",
    "## Learning Objectives:\n",
    "- Read from files using `open()` and file methods\n",
    "- Write to files and create new files\n",
    "- Handle file paths and work with different file formats\n",
    "- Use exception handling with `try-except` blocks\n",
    "- Handle common exceptions like `FileNotFoundError`\n",
    "- Store data using the `json` module\n",
    "- Work with user input and file validation\n",
    "- Practice defensive programming techniques\n",
    "\n",
    "---\n",
    "\n",
    "## 10-1 Learning Python"
   ]
  },
  {
   "cell_type": "code",
   "execution_count": null,
   "id": "a919c8be",
   "metadata": {},
   "outputs": [],
   "source": [
    "# Exercise 10-1: Learning Python\n",
    "# Open a blank file in your text editor and write a few lines summarizing what you've\n",
    "# learned about Python so far. Start each line with the phrase \"In Python you can...\"\n",
    "# Save the file as learning_python.txt in the same directory as your exercises.\n",
    "# Write a program that reads the file and prints what you wrote three times:\n",
    "# once by reading the entire file, once by looping over the file object,\n",
    "# and once by storing the lines in a list and then working with them outside the with block.\n",
    "\n",
    "# Here I will write the code and corresponding comments to complete the training tasks\n"
   ]
  },
  {
   "cell_type": "markdown",
   "id": "6bf17f77",
   "metadata": {},
   "source": [
    "## 10-2 Learning C"
   ]
  },
  {
   "cell_type": "code",
   "execution_count": null,
   "id": "d29023a5",
   "metadata": {},
   "outputs": [],
   "source": [
    "# Exercise 10-2: Learning C\n",
    "# You can use the replace() method to replace any word in a string with a different word.\n",
    "# Here's a quick example showing how to replace 'dog' with 'cat' in a sentence:\n",
    "# message = \"I really love dogs.\"\n",
    "# message.replace('dog', 'cat')\n",
    "# Read in each line from the file you just created, learning_python.txt, and replace the word\n",
    "# 'Python' with the name of another language, such as C. Print each modified line to the screen.\n",
    "\n",
    "# Here I will write the code and corresponding comments to complete the training tasks\n"
   ]
  },
  {
   "cell_type": "markdown",
   "id": "b4ce3433",
   "metadata": {},
   "source": [
    "## 10-3 Guest"
   ]
  },
  {
   "cell_type": "code",
   "execution_count": null,
   "id": "79d43ac5",
   "metadata": {},
   "outputs": [],
   "source": [
    "# Exercise 10-3: Guest\n",
    "# Write a program that prompts the user for their name. When they respond,\n",
    "# write their name to a file called guest.txt.\n",
    "\n",
    "# Here I will write the code and corresponding comments to complete the training tasks\n"
   ]
  },
  {
   "cell_type": "markdown",
   "id": "2490fb37",
   "metadata": {},
   "source": [
    "## 10-4 Guest Book"
   ]
  },
  {
   "cell_type": "code",
   "execution_count": null,
   "id": "99a6476b",
   "metadata": {},
   "outputs": [],
   "source": [
    "# Exercise 10-4: Guest Book\n",
    "# Write a while loop that prompts users for their name. When they enter their name,\n",
    "# print a greeting to the screen and add a line recording their visit in a file called guest_book.txt.\n",
    "# Make sure each entry appears on a new line in the file.\n",
    "\n",
    "# Here I will write the code and corresponding comments to complete the training tasks\n"
   ]
  },
  {
   "cell_type": "markdown",
   "id": "b9aabe4b",
   "metadata": {},
   "source": [
    "## 10-5 Programming Poll"
   ]
  },
  {
   "cell_type": "code",
   "execution_count": null,
   "id": "0a15a759",
   "metadata": {},
   "outputs": [],
   "source": [
    "# Exercise 10-5: Programming Poll\n",
    "# Write a while loop that asks people why they like programming.\n",
    "# Each time someone enters a reason, add their reason to a file that stores all the responses.\n",
    "\n",
    "# Here I will write the code and corresponding comments to complete the training tasks\n"
   ]
  },
  {
   "cell_type": "markdown",
   "id": "fedb965b",
   "metadata": {},
   "source": [
    "## 10-6 Addition"
   ]
  },
  {
   "cell_type": "code",
   "execution_count": null,
   "id": "0381e607",
   "metadata": {},
   "outputs": [],
   "source": [
    "# Exercise 10-6: Addition\n",
    "# One common problem when prompting for numerical input occurs when people provide text\n",
    "# instead of numbers. When you try to convert the input to an int, you'll get a ValueError.\n",
    "# Write a program that prompts for two numbers. Add them together and print the result.\n",
    "# Catch the ValueError if either input value is not a number, and print a friendly error message.\n",
    "# Test your program by entering two numbers and then by entering some text instead of a number.\n",
    "\n",
    "# Here I will write the code and corresponding comments to complete the training tasks\n"
   ]
  },
  {
   "cell_type": "markdown",
   "id": "9d484b75",
   "metadata": {},
   "source": [
    "## 10-7 Addition Calculator"
   ]
  },
  {
   "cell_type": "code",
   "execution_count": null,
   "id": "ca93f8ef",
   "metadata": {},
   "outputs": [],
   "source": [
    "# Exercise 10-7: Addition Calculator\n",
    "# Wrap your code from Exercise 10-6 in a while loop so the user can continue\n",
    "# entering numbers even if they make a mistake and enter text instead of a number.\n",
    "\n",
    "# Here I will write the code and corresponding comments to complete the training tasks\n"
   ]
  },
  {
   "cell_type": "markdown",
   "id": "326a0465",
   "metadata": {},
   "source": [
    "## 10-8 Cats and Dogs"
   ]
  },
  {
   "cell_type": "code",
   "execution_count": null,
   "id": "d5277846",
   "metadata": {},
   "outputs": [],
   "source": [
    "# Exercise 10-8: Cats and Dogs\n",
    "# Make two files, cats.txt and dogs.txt. Store at least three names of cats in the first file\n",
    "# and three names of dogs in the second file. Write a program that tries to read these files\n",
    "# and print the contents of the file to the screen. Wrap your code in a try-except block\n",
    "# to catch the FileNotFoundError, and print a friendly message if a file is missing.\n",
    "# Move one of the files to a different location on your system, and make sure the except block executes properly.\n",
    "\n",
    "# Here I will write the code and corresponding comments to complete the training tasks\n"
   ]
  },
  {
   "cell_type": "markdown",
   "id": "8345a641",
   "metadata": {},
   "source": [
    "## 10-9 Silent Cats and Dogs"
   ]
  },
  {
   "cell_type": "code",
   "execution_count": null,
   "id": "74a4d347",
   "metadata": {},
   "outputs": [],
   "source": [
    "# Exercise 10-9: Silent Cats and Dogs\n",
    "# Modify your except block in Exercise 10-8 to fail silently if either file is missing.\n",
    "\n",
    "# Here I will write the code and corresponding comments to complete the training tasks\n"
   ]
  },
  {
   "cell_type": "markdown",
   "id": "71da63cb",
   "metadata": {},
   "source": [
    "## 10-10 Common Words"
   ]
  },
  {
   "cell_type": "code",
   "execution_count": null,
   "id": "360615e5",
   "metadata": {},
   "outputs": [],
   "source": [
    "# Exercise 10-10: Common Words\n",
    "# Visit Project Gutenberg (https://gutenberg.org/) and find a few texts you'd like to analyze.\n",
    "# Download the text files for these works, or copy the raw text from your browser into a text file on your computer.\n",
    "# You can use the count() method to find out how many times a word or phrase appears in a string.\n",
    "# For example, the following code counts the number of times 'row' appears in a string:\n",
    "# line = \"Row, row, row your boat\"\n",
    "# line.count('row')\n",
    "# line.lower().count('row')\n",
    "# Notice that converting the string to lowercase using lower() catches all appearances of the word you're looking for,\n",
    "# regardless of how it's formatted.\n",
    "# Write a program that reads the files you found at Project Gutenberg and determines how many times\n",
    "# the word 'the' appears in each text. This will be an approximation because it will also count words such as 'then' and 'there'.\n",
    "# Try counting 'the ' (with a space in it) to see how much lower your count is.\n",
    "\n",
    "# Here I will write the code and corresponding comments to complete the training tasks\n"
   ]
  },
  {
   "cell_type": "markdown",
   "id": "86a2663f",
   "metadata": {},
   "source": [
    "## 10-11 Favorite Number"
   ]
  },
  {
   "cell_type": "code",
   "execution_count": null,
   "id": "38d4e013",
   "metadata": {},
   "outputs": [],
   "source": [
    "# Exercise 10-11: Favorite Number\n",
    "# Write a program that prompts for the user's favorite number.\n",
    "# Use json.dumps() to store this number in a file.\n",
    "# Write a separate program that reads in this value and prints the message,\n",
    "# \"I know your favorite number! It's _____.\"\n",
    "\n",
    "import json\n",
    "\n",
    "# Here I will write the code and corresponding comments to complete the training tasks\n"
   ]
  },
  {
   "cell_type": "markdown",
   "id": "fb14ebfc",
   "metadata": {},
   "source": [
    "## 10-12 Favorite Number Remembered"
   ]
  },
  {
   "cell_type": "code",
   "execution_count": null,
   "id": "4ca43f87",
   "metadata": {},
   "outputs": [],
   "source": [
    "# Exercise 10-12: Favorite Number Remembered\n",
    "# Combine the two programs from Exercise 10-11 into one file.\n",
    "# If the number is already stored, report the favorite number to the user.\n",
    "# If not, prompt for the user's favorite number and store it in a file.\n",
    "# Run the program twice to see that it works.\n",
    "\n",
    "import json\n",
    "\n",
    "# Here I will write the code and corresponding comments to complete the training tasks\n"
   ]
  },
  {
   "cell_type": "markdown",
   "id": "a9531dc7",
   "metadata": {},
   "source": [
    "## 10-13 Verify User"
   ]
  },
  {
   "cell_type": "code",
   "execution_count": null,
   "id": "13224e17",
   "metadata": {},
   "outputs": [],
   "source": [
    "# Exercise 10-13: Verify User\n",
    "# The final listing for remember_me.py assumes either that the user has already entered\n",
    "# their username or that the program is running for the first time.\n",
    "# We should modify it in case the current user is not the person who last used the program.\n",
    "# Before printing a welcome back message in greet_user(), ask the user if this is the correct username.\n",
    "# If it's not, call get_new_username() to get the correct username.\n",
    "\n",
    "import json\n",
    "\n",
    "# Here I will write the code and corresponding comments to complete the training tasks\n"
   ]
  },
  {
   "cell_type": "markdown",
   "id": "3284502f",
   "metadata": {},
   "source": [
    "## 10-14 Verify User Enhanced"
   ]
  },
  {
   "cell_type": "code",
   "execution_count": null,
   "id": "4449d132",
   "metadata": {},
   "outputs": [],
   "source": [
    "# Exercise 10-14: Verify User Enhanced\n",
    "# Enhance the remember_me.py program by refactoring the code into separate functions.\n",
    "# Create functions for:\n",
    "# - get_stored_user_info(): Gets stored user information if available\n",
    "# - get_new_user_info(): Prompts for new user information\n",
    "# - verify_user(): Verifies that the stored user is the current user\n",
    "# Store additional information like age, favorite color, etc.\n",
    "\n",
    "import json\n",
    "\n",
    "# Here I will write the code and corresponding comments to complete the training tasks\n"
   ]
  },
  {
   "cell_type": "markdown",
   "id": "5d574791",
   "metadata": {},
   "source": [
    "## 10-15 Word Frequency Analysis"
   ]
  },
  {
   "cell_type": "code",
   "execution_count": null,
   "id": "3fb850e1",
   "metadata": {},
   "outputs": [],
   "source": [
    "# Exercise 10-15: Word Frequency Analysis\n",
    "# Write a program that reads a text file and creates a frequency analysis of the words.\n",
    "# The program should:\n",
    "# 1. Read the text file\n",
    "# 2. Split the text into words\n",
    "# 3. Count the frequency of each word (case-insensitive)\n",
    "# 4. Display the top 10 most common words\n",
    "# 5. Save the results to a JSON file\n",
    "# Handle file errors gracefully.\n",
    "\n",
    "import json\n",
    "from collections import Counter\n",
    "import string\n",
    "\n",
    "# Here I will write the code and corresponding comments to complete the training tasks\n"
   ]
  },
  {
   "cell_type": "markdown",
   "id": "737d2157",
   "metadata": {},
   "source": [
    "## 10-16 CSV File Processing"
   ]
  },
  {
   "cell_type": "code",
   "execution_count": null,
   "id": "b92a8f47",
   "metadata": {},
   "outputs": [],
   "source": [
    "# Exercise 10-16: CSV File Processing\n",
    "# Create a program that works with CSV (Comma-Separated Values) files:\n",
    "# 1. Create a CSV file with student data (name, age, grade, subject)\n",
    "# 2. Read the CSV file and display the data in a formatted table\n",
    "# 3. Calculate and display statistics (average grade, etc.)\n",
    "# 4. Handle file errors and invalid data gracefully\n",
    "# 5. Allow users to add new student records\n",
    "\n",
    "import csv\n",
    "import json\n",
    "\n",
    "# Here I will write the code and corresponding comments to complete the training tasks\n"
   ]
  },
  {
   "cell_type": "markdown",
   "id": "4be90e8b",
   "metadata": {},
   "source": [
    "## 10-17 Configuration File Manager"
   ]
  },
  {
   "cell_type": "code",
   "execution_count": null,
   "id": "1cbda80b",
   "metadata": {},
   "outputs": [],
   "source": [
    "# Exercise 10-17: Configuration File Manager\n",
    "# Create a configuration file manager that:\n",
    "# 1. Reads application settings from a JSON configuration file\n",
    "# 2. Provides default values if the config file doesn't exist\n",
    "# 3. Allows users to update configuration settings\n",
    "# 4. Validates configuration values\n",
    "# 5. Saves updated settings back to the file\n",
    "# Handle all file operations with proper exception handling.\n",
    "\n",
    "import json\n",
    "import os\n",
    "\n",
    "# Here I will write the code and corresponding comments to complete the training tasks\n"
   ]
  },
  {
   "cell_type": "markdown",
   "id": "45a65065",
   "metadata": {},
   "source": [
    "---\n",
    "\n",
    "## Summary\n",
    "\n",
    "Congratulations! You've completed all the exercises for Chapter 10 on Files and Exceptions. You should now be comfortable with:\n",
    "\n",
    "- Reading from files using various methods\n",
    "- Writing to files and creating new files\n",
    "- Handling file paths and working with different file formats\n",
    "- Using exception handling with `try-except` blocks\n",
    "- Handling specific exceptions like `FileNotFoundError` and `ValueError`\n",
    "- Storing and retrieving data using JSON\n",
    "- Working with CSV files for structured data\n",
    "- Building robust applications with proper error handling\n",
    "\n",
    "**Key Concepts Practiced:**\n",
    "- File operations: `open()`, `read()`, `write()`, `readline()`, `readlines()`\n",
    "- Context managers: `with` statement for automatic file closing\n",
    "- Exception handling: `try-except-else-finally` blocks\n",
    "- JSON operations: `json.dump()`, `json.load()`, `json.dumps()`, `json.loads()`\n",
    "- CSV processing: reading and writing structured data\n",
    "- String methods: `count()`, `replace()`, `split()`, `strip()`\n",
    "- Path handling and file system operations\n",
    "\n",
    "**Important Principles:**\n",
    "- Always use `with` statements when working with files\n",
    "- Handle exceptions gracefully to prevent crashes\n",
    "- Provide meaningful error messages to users\n",
    "- Validate user input and file data\n",
    "- Use appropriate file formats for different types of data\n",
    "- Test your programs with both valid and invalid inputs\n",
    "\n",
    "**Best Practices Learned:**\n",
    "- Defensive programming: anticipate and handle errors\n",
    "- Separation of concerns: organize code into focused functions\n",
    "- Data persistence: save and retrieve application state\n",
    "- User experience: provide clear feedback and error messages\n",
    "- Code organization: structure programs for maintainability\n",
    "\n",
    "**Next Steps:**\n",
    "- Review any exercises you found challenging\n",
    "- Practice with larger files and more complex data structures\n",
    "- Experiment with other file formats (XML, binary files, etc.)\n",
    "- Move on to Chapter 11: Testing Your Code\n",
    "\n",
    "---\n",
    "\n",
    "*Note: File handling and exception management are essential skills for real-world programming. These concepts will help you build robust applications that can handle unexpected situations gracefully and work with external data sources effectively!*"
   ]
  },
  {
   "cell_type": "markdown",
   "id": "7aa2d183",
   "metadata": {},
   "source": [
    "---\n",
    "\n",
    "> Exercises adapted from _Python Crash Course_ by Eric Matthes  \n",
    "> Structured and formatted by Alexander W. Brolin for interactive learning."
   ]
  }
 ],
 "metadata": {
  "language_info": {
   "name": "python"
  }
 },
 "nbformat": 4,
 "nbformat_minor": 5
}
