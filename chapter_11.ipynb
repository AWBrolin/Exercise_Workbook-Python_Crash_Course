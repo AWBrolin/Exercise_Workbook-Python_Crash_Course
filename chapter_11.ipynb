{
 "cells": [
  {
   "cell_type": "markdown",
   "id": "0bbdd750",
   "metadata": {},
   "source": [
    "# Python Crash Course - Chapter 11: Testing Your Code\n",
    "\n",
    "This notebook contains exercises from Chapter 11 of Python Crash Course by Eric Matthes. Each exercise focuses on writing tests for functions and classes using Python's unittest module.\n",
    "\n",
    "## Learning Objectives:\n",
    "- Write unit tests using the `unittest` module\n",
    "- Test functions with various inputs and edge cases\n",
    "- Test classes and their methods\n",
    "- Use assertions to verify expected behavior\n",
    "- Organize test code effectively\n",
    "- Use setUp() method for test preparation\n",
    "- Handle test fixtures and mock data\n",
    "- Practice Test-Driven Development (TDD)\n",
    "\n",
    "---\n",
    "\n",
    "## 11-1 City, Country"
   ]
  },
  {
   "cell_type": "code",
   "execution_count": null,
   "id": "943856df",
   "metadata": {},
   "outputs": [],
   "source": [
    "# Exercise 11-1: City, Country\n",
    "# Write a function that accepts two parameters: a city name and a country name.\n",
    "# The function should return a single string of the form City, Country, such as Santiago, Chile.\n",
    "# Store the function in a module called city_functions.py.\n",
    "# Create a file called test_cities.py that tests the function you just wrote\n",
    "# (remember that you need to import unittest and the function you want to test).\n",
    "# Write a method called test_city_country() that verifies that calling your function\n",
    "# with values such as 'santiago' and 'chile' returns the correct string.\n",
    "# Run test_cities.py, and make sure test_city_country() passes.\n",
    "\n",
    "# Here I will write the code and corresponding comments to complete the training tasks\n"
   ]
  },
  {
   "cell_type": "markdown",
   "id": "0c8d5499",
   "metadata": {},
   "source": [
    "## 11-2 Population"
   ]
  },
  {
   "cell_type": "code",
   "execution_count": null,
   "id": "d2753a0f",
   "metadata": {},
   "outputs": [],
   "source": [
    "# Exercise 11-2: Population\n",
    "# Modify your function from Exercise 11-1 so it requires a third parameter, population.\n",
    "# It should now return a string like City, Country – population xxx, such as Santiago, Chile – population 5000000.\n",
    "# Run test_cities.py again. Make sure test_city_country() still passes.\n",
    "# Modify your function so that the population parameter is optional.\n",
    "# Run test_cities.py again, and make sure test_city_country() still passes.\n",
    "# Write a second test called test_city_country_population() that verifies you can call your function\n",
    "# with the values 'santiago', 'chile', and 'population=5000000'.\n",
    "# Run test_cities.py again, and make sure both tests pass.\n",
    "\n",
    "# Here I will write the code and corresponding comments to complete the training tasks\n"
   ]
  },
  {
   "cell_type": "markdown",
   "id": "71b440ae",
   "metadata": {},
   "source": [
    "## 11-3 Employee"
   ]
  },
  {
   "cell_type": "code",
   "execution_count": null,
   "id": "51c380b7",
   "metadata": {},
   "outputs": [],
   "source": [
    "# Exercise 11-3: Employee\n",
    "# Write a class called Employee. The __init__() method should take in a first name,\n",
    "# a last name, and an annual salary, and store each of these as attributes.\n",
    "# Write a method called give_raise() that adds $5000 to the annual salary by default\n",
    "# but also accepts a custom raise amount.\n",
    "# Write a test case for Employee. Write two test methods, test_give_default_raise()\n",
    "# and test_give_custom_raise(). Use the setUp() method so you don't have to create\n",
    "# a new employee instance in each test method. Run your test case, and make sure both tests pass.\n",
    "\n",
    "# Here I will write the code and corresponding comments to complete the training tasks\n"
   ]
  },
  {
   "cell_type": "markdown",
   "id": "ed7efaee",
   "metadata": {},
   "source": [
    "## 11-4 Testing a Calculator"
   ]
  },
  {
   "cell_type": "code",
   "execution_count": null,
   "id": "d67544f4",
   "metadata": {},
   "outputs": [],
   "source": [
    "# Exercise 11-4: Testing a Calculator\n",
    "# Create a Calculator class with methods for basic arithmetic operations:\n",
    "# add(), subtract(), multiply(), and divide().\n",
    "# Write comprehensive tests for each method, including edge cases like:\n",
    "# - Division by zero\n",
    "# - Operations with negative numbers\n",
    "# - Operations with floating-point numbers\n",
    "# - Operations with zero\n",
    "\n",
    "# Here I will write the code and corresponding comments to complete the training tasks\n"
   ]
  },
  {
   "cell_type": "markdown",
   "id": "6b2a9d5e",
   "metadata": {},
   "source": [
    "## 11-5 Testing a List Manager"
   ]
  },
  {
   "cell_type": "code",
   "execution_count": null,
   "id": "8a18a88e",
   "metadata": {},
   "outputs": [],
   "source": [
    "# Exercise 11-5: Testing a List Manager\n",
    "# Create a ListManager class that manages a list of items with methods:\n",
    "# - add_item(item): adds an item to the list\n",
    "# - remove_item(item): removes an item from the list\n",
    "# - get_items(): returns all items\n",
    "# - count_items(): returns the number of items\n",
    "# - clear_items(): removes all items\n",
    "# Write comprehensive tests for all methods including edge cases.\n",
    "\n",
    "# Here I will write the code and corresponding comments to complete the training tasks\n"
   ]
  },
  {
   "cell_type": "markdown",
   "id": "b885b09b",
   "metadata": {},
   "source": [
    "## 11-6 Testing User Input Validation"
   ]
  },
  {
   "cell_type": "code",
   "execution_count": null,
   "id": "471bc316",
   "metadata": {},
   "outputs": [],
   "source": [
    "# Exercise 11-6: Testing User Input Validation\n",
    "# Create functions that validate different types of user input:\n",
    "# - validate_email(email): checks if email format is valid\n",
    "# - validate_age(age): checks if age is a positive integer\n",
    "# - validate_password(password): checks password strength\n",
    "# Write comprehensive tests for each validation function.\n",
    "\n",
    "import re\n",
    "\n",
    "# Here I will write the code and corresponding comments to complete the training tasks\n"
   ]
  },
  {
   "cell_type": "markdown",
   "id": "b73a2ce9",
   "metadata": {},
   "source": [
    "## 11-7 Testing File Operations"
   ]
  },
  {
   "cell_type": "code",
   "execution_count": null,
   "id": "e264f7df",
   "metadata": {},
   "outputs": [],
   "source": [
    "# Exercise 11-7: Testing File Operations\n",
    "# Create a FileManager class that handles file operations:\n",
    "# - write_to_file(filename, content): writes content to a file\n",
    "# - read_from_file(filename): reads content from a file\n",
    "# - file_exists(filename): checks if a file exists\n",
    "# - delete_file(filename): deletes a file\n",
    "# Write tests that handle file operations safely using temporary files.\n",
    "\n",
    "import os\n",
    "import tempfile\n",
    "\n",
    "# Here I will write the code and corresponding comments to complete the training tasks\n"
   ]
  },
  {
   "cell_type": "markdown",
   "id": "cacfc56f",
   "metadata": {},
   "source": [
    "## 11-8 Testing String Utilities"
   ]
  },
  {
   "cell_type": "code",
   "execution_count": null,
   "id": "502e568e",
   "metadata": {},
   "outputs": [],
   "source": [
    "# Exercise 11-8: Testing String Utilities\n",
    "# Create a StringUtils class with utility methods for string manipulation:\n",
    "# - reverse_string(text): returns the reversed string\n",
    "# - count_words(text): counts the number of words\n",
    "# - is_palindrome(text): checks if text is a palindrome\n",
    "# - capitalize_words(text): capitalizes first letter of each word\n",
    "# - remove_punctuation(text): removes all punctuation from text\n",
    "# Write comprehensive tests including edge cases like empty strings, special characters, etc.\n",
    "\n",
    "import string\n",
    "\n",
    "# Here I will write the code and corresponding comments to complete the training tasks\n"
   ]
  },
  {
   "cell_type": "markdown",
   "id": "5dc7ba93",
   "metadata": {},
   "source": [
    "## 11-9 Testing Mathematical Functions"
   ]
  },
  {
   "cell_type": "code",
   "execution_count": null,
   "id": "e0de68e7",
   "metadata": {},
   "outputs": [],
   "source": [
    "# Exercise 11-9: Testing Mathematical Functions\n",
    "# Create a MathUtils class with mathematical functions:\n",
    "# - factorial(n): calculates factorial of n\n",
    "# - fibonacci(n): returns the nth Fibonacci number\n",
    "# - is_prime(n): checks if n is a prime number\n",
    "# - gcd(a, b): finds greatest common divisor\n",
    "# - power(base, exponent): calculates base raised to exponent\n",
    "# Write tests that verify mathematical properties and handle edge cases.\n",
    "\n",
    "import math\n",
    "\n",
    "# Here I will write the code and corresponding comments to complete the training tasks\n"
   ]
  },
  {
   "cell_type": "markdown",
   "id": "b73d3620",
   "metadata": {},
   "source": [
    "## 11-10 Test-Driven Development Exercise"
   ]
  },
  {
   "cell_type": "code",
   "execution_count": null,
   "id": "832aebf3",
   "metadata": {},
   "outputs": [],
   "source": [
    "# Exercise 11-10: Test-Driven Development\n",
    "# Practice Test-Driven Development (TDD) by:\n",
    "# 1. First writing tests for a BankAccount class before implementing it\n",
    "# 2. The class should have methods: deposit(), withdraw(), get_balance(), transfer()\n",
    "# 3. Write tests first, watch them fail, then implement the class to make tests pass\n",
    "# 4. Include business rules like minimum balance, withdrawal limits, etc.\n",
    "\n",
    "# Here I will write the code and corresponding comments to complete the training tasks\n"
   ]
  },
  {
   "cell_type": "markdown",
   "id": "0a294649",
   "metadata": {},
   "source": [
    "## 11-11 Mock and Patch Testing"
   ]
  },
  {
   "cell_type": "code",
   "execution_count": null,
   "id": "8f61bf57",
   "metadata": {},
   "outputs": [],
   "source": [
    "# Exercise 11-11: Mock and Patch Testing\n",
    "# Learn to use unittest.mock for testing external dependencies:\n",
    "# Create a WeatherService class that makes API calls\n",
    "# Use mock to test without making actual API calls\n",
    "# Practice patching external dependencies\n",
    "\n",
    "import requests\n",
    "from unittest.mock import Mock, patch\n",
    "\n",
    "# Here I will write the code and corresponding comments to complete the training tasks\n"
   ]
  },
  {
   "cell_type": "markdown",
   "id": "595359f8",
   "metadata": {},
   "source": [
    "## 11-12 Performance Testing"
   ]
  },
  {
   "cell_type": "code",
   "execution_count": null,
   "id": "4779f352",
   "metadata": {},
   "outputs": [],
   "source": [
    "# Exercise 11-12: Performance Testing\n",
    "# Create tests that verify performance characteristics:\n",
    "# Test that functions complete within expected time limits\n",
    "# Compare performance of different algorithms\n",
    "# Use timeit module for performance measurement\n",
    "\n",
    "import time\n",
    "import timeit\n",
    "\n",
    "# Here I will write the code and corresponding comments to complete the training tasks\n"
   ]
  },
  {
   "cell_type": "markdown",
   "id": "7920cda1",
   "metadata": {},
   "source": [
    "---\n",
    "\n",
    "## Summary\n",
    "\n",
    "Congratulations! You've completed all the exercises for Chapter 11 on Testing Your Code. You should now be comfortable with:\n",
    "\n",
    "- Writing unit tests using the `unittest` module\n",
    "- Testing functions with various inputs and edge cases\n",
    "- Testing classes and their methods comprehensively\n",
    "- Using assertions to verify expected behavior\n",
    "- Organizing test code with setUp() and tearDown() methods\n",
    "- Handling test fixtures and temporary data\n",
    "- Using mocks and patches for external dependencies\n",
    "- Performance testing and benchmarking\n",
    "- Test-Driven Development (TDD) practices\n",
    "\n",
    "**Key Concepts Practiced:**\n",
    "- Unit testing fundamentals: `unittest.TestCase`, test methods\n",
    "- Assertion methods: `assertEqual()`, `assertTrue()`, `assertRaises()`, etc.\n",
    "- Test organization: `setUp()`, `tearDown()`, test suites\n",
    "- Edge case testing: boundary values, error conditions\n",
    "- Mock objects: `unittest.mock.Mock`, `@patch` decorator\n",
    "- Test isolation: ensuring tests don't interfere with each other\n",
    "- Test documentation: clear test names and descriptions\n",
    "\n",
    "**Important Testing Principles:**\n",
    "- Write tests before or alongside your code (TDD)\n",
    "- Test both positive and negative cases\n",
    "- Keep tests simple, focused, and independent\n",
    "- Use descriptive test names that explain what's being tested\n",
    "- Test edge cases and boundary conditions\n",
    "- Mock external dependencies to isolate units under test\n",
    "- Maintain test code as carefully as production code\n",
    "\n",
    "**Best Practices Learned:**\n",
    "- **Arrange-Act-Assert** pattern for structuring tests\n",
    "- **Given-When-Then** thinking for test scenarios\n",
    "- **FIRST** principles: Fast, Independent, Repeatable, Self-validating, Timely\n",
    "- Test coverage: aim for comprehensive but not obsessive coverage\n",
    "- Refactoring: improve code while keeping tests green\n",
    "- Continuous testing: run tests frequently during development\n",
    "\n",
    "**Advanced Topics Covered:**\n",
    "- File-based testing with temporary files\n",
    "- Performance testing and benchmarking\n",
    "- Testing external API interactions with mocks\n",
    "- String manipulation and validation testing\n",
    "- Mathematical function verification\n",
    "- Complex class behavior testing\n",
    "\n",
    "**Next Steps:**\n",
    "- Practice writing tests for your existing code\n",
    "- Explore more advanced testing frameworks (pytest, nose2)\n",
    "- Learn about integration testing and end-to-end testing\n",
    "- Study test coverage tools and continuous integration\n",
    "- Apply TDD to new projects you build\n",
    "\n",
    "---\n",
    "\n",
    "**Real-World Impact:**\n",
    "*Testing is not just about finding bugs—it's about building confidence in your code, enabling safe refactoring, documenting expected behavior, and creating a foundation for reliable software. These skills will make you a more professional and effective developer!*\n",
    "\n",
    "**Quote to Remember:**\n",
    "*\"Testing shows the presence, not the absence of bugs.\" - Edsger Dijkstra*\n",
    "\n",
    "*Write tests not because you have to, but because you want to ship reliable software that users can depend on.*"
   ]
  },
  {
   "cell_type": "markdown",
   "id": "4738d2d4",
   "metadata": {},
   "source": [
    "---\n",
    "\n",
    "> Exercises adapted from _Python Crash Course_ by Eric Matthes  \n",
    "> Structured and formatted by Alexander W. Brolin for interactive learning."
   ]
  }
 ],
 "metadata": {
  "language_info": {
   "name": "python"
  }
 },
 "nbformat": 4,
 "nbformat_minor": 5
}
