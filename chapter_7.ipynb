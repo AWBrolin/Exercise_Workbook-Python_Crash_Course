{
 "cells": [
  {
   "cell_type": "markdown",
   "id": "7008eab2",
   "metadata": {},
   "source": [
    "# Python Crash Course - Chapter 7: User Input and While Loops\n",
    "\n",
    "This notebook contains exercises from Chapter 7 of Python Crash Course by Eric Matthes. Each exercise focuses on getting user input and using while loops for repeated actions.\n",
    "\n",
    "## Learning Objectives:\n",
    "- Get user input with the input() function\n",
    "- Use while loops for repeated execution\n",
    "- Control loop execution with break and continue\n",
    "- Use flags to control program flow\n",
    "- Remove specific values from lists\n",
    "- Fill dictionaries with user input\n",
    "\n",
    "---\n",
    "\n",
    "## 7-1 Rental Car"
   ]
  },
  {
   "cell_type": "code",
   "execution_count": null,
   "id": "33f9f487",
   "metadata": {},
   "outputs": [],
   "source": [
    "# Exercise 7-1: Rental Car\n",
    "# Write a program that asks the user what kind of rental car they would like.\n",
    "# Print a message about that car, such as \"Let me see if I can find you a Subaru.\"\n",
    "\n",
    "# Here I will write the code and corresponding comments to complete the training tasks\n"
   ]
  },
  {
   "cell_type": "markdown",
   "id": "1df5fcb0",
   "metadata": {},
   "source": [
    "## 7-2 Restaurant Seating"
   ]
  },
  {
   "cell_type": "code",
   "execution_count": null,
   "id": "8f7c8436",
   "metadata": {},
   "outputs": [],
   "source": [
    "# Exercise 7-2: Restaurant Seating\n",
    "# Write a program that asks the user how many people are in their dinner group.\n",
    "# If the answer is more than eight, print a message saying they'll have to wait for a table.\n",
    "# Otherwise, report that their table is ready.\n",
    "\n",
    "# Here I will write the code and corresponding comments to complete the training tasks\n"
   ]
  },
  {
   "cell_type": "markdown",
   "id": "9e1c4ab0",
   "metadata": {},
   "source": [
    "## 7-3 Multiples of Ten"
   ]
  },
  {
   "cell_type": "code",
   "execution_count": null,
   "id": "ccc09791",
   "metadata": {},
   "outputs": [],
   "source": [
    "# Exercise 7-3: Multiples of Ten\n",
    "# Ask the user for a number, and then report whether the number is a multiple of 10 or not.\n",
    "\n",
    "# Here I will write the code and corresponding comments to complete the training tasks\n"
   ]
  },
  {
   "cell_type": "markdown",
   "id": "a1800ca2",
   "metadata": {},
   "source": [
    "## 7-4 Pizza Toppings"
   ]
  },
  {
   "cell_type": "code",
   "execution_count": null,
   "id": "1a800be2",
   "metadata": {},
   "outputs": [],
   "source": [
    "# Exercise 7-4: Pizza Toppings\n",
    "# Write a loop that prompts the user to enter a series of pizza toppings until they enter a 'quit' value.\n",
    "# As they enter each topping, print a message saying you'll add that topping to their pizza.\n",
    "\n",
    "# Here I will write the code and corresponding comments to complete the training tasks\n"
   ]
  },
  {
   "cell_type": "markdown",
   "id": "1ada47a1",
   "metadata": {},
   "source": [
    "## 7-5 Movie Tickets"
   ]
  },
  {
   "cell_type": "code",
   "execution_count": null,
   "id": "165db6f3",
   "metadata": {},
   "outputs": [],
   "source": [
    "# Exercise 7-5: Movie Tickets\n",
    "# A movie theater charges different ticket prices depending on a person's age.\n",
    "# If a person is under the age of 3, the ticket is free; if they are between 3 and 12, the ticket is $10;\n",
    "# and if they are over age 12, the ticket is $15.\n",
    "# Write a loop that prompts users to enter their age, and then print the cost of their movie ticket.\n",
    "\n",
    "# Here I will write the code and corresponding comments to complete the training tasks\n"
   ]
  },
  {
   "cell_type": "markdown",
   "id": "c1e9e005",
   "metadata": {},
   "source": [
    "## 7-6 Three Exits"
   ]
  },
  {
   "cell_type": "code",
   "execution_count": null,
   "id": "66fea5fd",
   "metadata": {},
   "outputs": [],
   "source": [
    "# Exercise 7-6: Three Exits\n",
    "# Write different versions of either Exercise 7-4 or Exercise 7-5 that do each of the following at least once:\n",
    "# • Use a conditional test in the while statement to stop the loop.\n",
    "# • Use an active variable to control how long the loop runs.\n",
    "# • Use a break statement to exit the loop.\n",
    "\n",
    "# Here I will write the code and corresponding comments to complete the training tasks\n"
   ]
  },
  {
   "cell_type": "markdown",
   "id": "382a6822",
   "metadata": {},
   "source": [
    "## 7-7 Infinity"
   ]
  },
  {
   "cell_type": "code",
   "execution_count": null,
   "id": "6648f2fd",
   "metadata": {},
   "outputs": [],
   "source": [
    "# Exercise 7-7: Infinity\n",
    "# Write a loop that never ends, and run it. (To stop the loop, press CTRL-C or close the output window.)\n",
    "\n",
    "# Here I will write the code and corresponding comments to complete the training tasks\n"
   ]
  },
  {
   "cell_type": "markdown",
   "id": "05e4f269",
   "metadata": {},
   "source": [
    "## 7-8 Deli"
   ]
  },
  {
   "cell_type": "code",
   "execution_count": null,
   "id": "6e439e3c",
   "metadata": {},
   "outputs": [],
   "source": [
    "# Exercise 7-8: Deli\n",
    "# Make a list called sandwich_orders and fill it with the names of various sandwiches.\n",
    "# Then make an empty list called finished_sandwiches.\n",
    "# Loop through the list of sandwich orders and print a message for each order, such as\n",
    "# \"I made your tuna sandwich.\" As each sandwich is made, move it to the list of finished sandwiches.\n",
    "# After all the sandwiches have been made, print a message listing each sandwich that was made.\n",
    "\n",
    "# Here I will write the code and corresponding comments to complete the training tasks\n"
   ]
  },
  {
   "cell_type": "markdown",
   "id": "b72301b6",
   "metadata": {},
   "source": [
    "## 7-9 No Pastrami"
   ]
  },
  {
   "cell_type": "code",
   "execution_count": null,
   "id": "d80d0700",
   "metadata": {},
   "outputs": [],
   "source": [
    "# Exercise 7-9: No Pastrami\n",
    "# Using the list sandwich_orders from Exercise 7-8, make sure the sandwich 'pastrami'\n",
    "# appears in the list at least three times. Add code near the beginning of your program\n",
    "# to print a message saying the deli has run out of pastrami, and then use a while loop\n",
    "# to remove all occurrences of 'pastrami' from sandwich_orders.\n",
    "# Make sure no pastrami sandwiches end up in finished_sandwiches.\n",
    "\n",
    "# Here I will write the code and corresponding comments to complete the training tasks\n"
   ]
  },
  {
   "cell_type": "markdown",
   "id": "1108a386",
   "metadata": {},
   "source": [
    "## 7-10 Dream Vacation"
   ]
  },
  {
   "cell_type": "code",
   "execution_count": null,
   "id": "57ed8e4f",
   "metadata": {},
   "outputs": [],
   "source": [
    "# Exercise 7-10: Dream Vacation\n",
    "# Write a program that polls users about their dream vacation.\n",
    "# Write a prompt similar to \"If you could visit anywhere in the world, where would you go?\"\n",
    "# Include a block of code that prints the results of the poll.\n",
    "\n",
    "# Here I will write the code and corresponding comments to complete the training tasks\n"
   ]
  },
  {
   "cell_type": "markdown",
   "id": "e3e08b70",
   "metadata": {},
   "source": [
    "---\n",
    "\n",
    "## Summary\n",
    "\n",
    "Congratulations! You've completed all the exercises for Chapter 7 on User Input and While Loops. You should now be comfortable with:\n",
    "\n",
    "- Getting user input with the `input()` function\n",
    "- Converting string input to integers with `int()`\n",
    "- Using while loops for repeated execution\n",
    "- Controlling loops with flags, conditions, and `break`\n",
    "- Processing lists with while loops\n",
    "- Removing specific values from lists\n",
    "- Building interactive programs with user input\n",
    "\n",
    "**Key Concepts Practiced:**\n",
    "- User input: `input()` function and type conversion\n",
    "- While loop syntax and control\n",
    "- Loop control: `break`, `continue`, and flags\n",
    "- List processing with `pop()` and `remove()`\n",
    "- Interactive program design\n",
    "- Data collection and storage in dictionaries\n",
    "\n",
    "**Important Notes:**\n",
    "- Always convert `input()` to appropriate data type when needed\n",
    "- Be careful with infinite loops - always ensure there's an exit condition\n",
    "- Use meaningful variable names for flags and counters\n",
    "- Consider user experience when designing interactive programs\n",
    "\n",
    "**Next Steps:**\n",
    "- Review any exercises you found challenging\n",
    "- Practice creating more interactive programs\n",
    "- Experiment with different loop control techniques\n",
    "- Move on to Chapter 8: Functions\n",
    "\n",
    "---\n",
    "\n",
    "*Note: User input and while loops are essential for creating interactive programs. These skills will be crucial for building engaging applications!*"
   ]
  },
  {
   "cell_type": "markdown",
   "id": "d54d0c19",
   "metadata": {},
   "source": [
    "---\n",
    "\n",
    "> Exercises adapted from _Python Crash Course_ by Eric Matthes  \n",
    "> Structured and formatted by Alexander W. Brolin for interactive learning."
   ]
  }
 ],
 "metadata": {
  "language_info": {
   "name": "python"
  }
 },
 "nbformat": 4,
 "nbformat_minor": 5
}
