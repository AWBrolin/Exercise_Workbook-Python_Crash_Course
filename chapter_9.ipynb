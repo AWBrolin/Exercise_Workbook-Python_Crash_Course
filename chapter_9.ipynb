{
 "cells": [
  {
   "cell_type": "markdown",
   "id": "d66b7316",
   "metadata": {},
   "source": [
    "# Python Crash Course - Chapter 9: Classes\n",
    "\n",
    "This notebook contains exercises from Chapter 9 of Python Crash Course by Eric Matthes. Each exercise focuses on creating and using classes to model real-world objects and behaviors.\n",
    "\n",
    "## Learning Objectives:\n",
    "- Create and use classes to model real-world objects\n",
    "- Define attributes and methods in classes\n",
    "- Create instances of classes\n",
    "- Use inheritance to create specialized classes\n",
    "- Import classes from modules\n",
    "- Work with class and instance attributes\n",
    "- Override methods in child classes\n",
    "\n",
    "---\n",
    "\n",
    "## 9-1 Restaurant"
   ]
  },
  {
   "cell_type": "code",
   "execution_count": null,
   "id": "d25e582a",
   "metadata": {},
   "outputs": [],
   "source": [
    "# Exercise 9-1: Restaurant\n",
    "# Make a class called Restaurant. The __init__() method for Restaurant should store two attributes:\n",
    "# a restaurant_name and a cuisine_type. Make a method called describe_restaurant() that prints\n",
    "# these two pieces of information, and a method called open_restaurant() that prints a message\n",
    "# indicating that the restaurant is open.\n",
    "# Make an instance called restaurant from your class. Print the two attributes individually,\n",
    "# and then call both methods.\n",
    "\n",
    "# Here I will write the code and corresponding comments to complete the training tasks\n"
   ]
  },
  {
   "cell_type": "markdown",
   "id": "50f06d6a",
   "metadata": {},
   "source": [
    "## 9-2 Three Restaurants"
   ]
  },
  {
   "cell_type": "code",
   "execution_count": null,
   "id": "dc6e7b2e",
   "metadata": {},
   "outputs": [],
   "source": [
    "# Exercise 9-2: Three Restaurants\n",
    "# Start with your class from Exercise 9-1. Create three different instances from the class,\n",
    "# and call describe_restaurant() for each instance.\n",
    "\n",
    "# Here I will write the code and corresponding comments to complete the training tasks\n"
   ]
  },
  {
   "cell_type": "markdown",
   "id": "fb072690",
   "metadata": {},
   "source": [
    "## 9-3 Users"
   ]
  },
  {
   "cell_type": "code",
   "execution_count": null,
   "id": "8d8b755a",
   "metadata": {},
   "outputs": [],
   "source": [
    "# Exercise 9-3: Users\n",
    "# Make a class called User. Create two attributes called first_name and last_name,\n",
    "# and then create several other attributes that are typically stored in a user profile.\n",
    "# Make a method called describe_user() that prints a summary of the user's information.\n",
    "# Make another method called greet_user() that prints a personalized greeting to the user.\n",
    "# Create several instances representing different users, and call both methods for each user.\n",
    "\n",
    "# Here I will write the code and corresponding comments to complete the training tasks\n"
   ]
  },
  {
   "cell_type": "markdown",
   "id": "cc8a8f59",
   "metadata": {},
   "source": [
    "## 9-4 Number Served"
   ]
  },
  {
   "cell_type": "code",
   "execution_count": null,
   "id": "bd445194",
   "metadata": {},
   "outputs": [],
   "source": [
    "# Exercise 9-4: Number Served\n",
    "# Start with your program from Exercise 9-1 (page 162). Add an attribute called number_served\n",
    "# with a default value of 0. Create an instance called restaurant from this class.\n",
    "# Print the number of customers the restaurant has served, and then change this value and print it again.\n",
    "# Add a method called set_number_served() that lets you set the number of customers that have been served.\n",
    "# Call this method with a new number and print the value again.\n",
    "# Add a method called increment_number_served() that lets you increment the number of customers\n",
    "# who've been served. Call this method with any number you like that could represent\n",
    "# how many customers were served in, say, a day of business.\n",
    "\n",
    "# Here I will write the code and corresponding comments to complete the training tasks\n"
   ]
  },
  {
   "cell_type": "markdown",
   "id": "7967cf32",
   "metadata": {},
   "source": [
    "## 9-5 Login Attempts"
   ]
  },
  {
   "cell_type": "code",
   "execution_count": null,
   "id": "4a0dd47b",
   "metadata": {},
   "outputs": [],
   "source": [
    "# Exercise 9-5: Login Attempts\n",
    "# Add an attribute called login_attempts to your User class from Exercise 9-3 (page 162).\n",
    "# Write a method called increment_login_attempts() that increments the value of login_attempts by 1.\n",
    "# Write another method called reset_login_attempts() that resets the value of login_attempts to 0.\n",
    "# Make an instance of the User class and call increment_login_attempts() several times.\n",
    "# Print the value of login_attempts to make sure it was incremented properly,\n",
    "# and then call reset_login_attempts(). Print login_attempts again to make sure it was reset to 0.\n",
    "\n",
    "# Here I will write the code and corresponding comments to complete the training tasks\n"
   ]
  },
  {
   "cell_type": "markdown",
   "id": "f9c559d8",
   "metadata": {},
   "source": [
    "## 9-6 Ice Cream Stand"
   ]
  },
  {
   "cell_type": "code",
   "execution_count": null,
   "id": "a6745b14",
   "metadata": {},
   "outputs": [],
   "source": [
    "# Exercise 9-6: Ice Cream Stand\n",
    "# An ice cream stand is a specific kind of restaurant. Write a class called IceCreamStand\n",
    "# that inherits from the Restaurant class you wrote in Exercise 9-1 (page 162) or Exercise 9-4 (page 167).\n",
    "# Either version of the class will work; just pick the one you like better.\n",
    "# Add an attribute called flavors that stores a list of ice cream flavors.\n",
    "# Write a method that displays these flavors. Create an instance of IceCreamStand,\n",
    "# and call this method.\n",
    "\n",
    "# Here I will write the code and corresponding comments to complete the training tasks\n"
   ]
  },
  {
   "cell_type": "markdown",
   "id": "7a975479",
   "metadata": {},
   "source": [
    "## 9-7 Admin"
   ]
  },
  {
   "cell_type": "code",
   "execution_count": null,
   "id": "5f7b79fa",
   "metadata": {},
   "outputs": [],
   "source": [
    "# Exercise 9-7: Admin\n",
    "# An administrator is a special kind of user. Write a class called Admin that inherits\n",
    "# from the User class you wrote in Exercise 9-3 (page 162) or Exercise 9-5 (page 167).\n",
    "# Add an attribute, privileges, that stores a list of strings like \"can add post\",\n",
    "# \"can delete post\", \"can ban user\", and so on. Write a method called show_privileges()\n",
    "# that lists the administrator's set of privileges. Create an instance of Admin,\n",
    "# and call your method.\n",
    "\n",
    "# Here I will write the code and corresponding comments to complete the training tasks\n"
   ]
  },
  {
   "cell_type": "markdown",
   "id": "6c29f5e9",
   "metadata": {},
   "source": [
    "## 9-8 Privileges"
   ]
  },
  {
   "cell_type": "code",
   "execution_count": null,
   "id": "fbdcd4cf",
   "metadata": {},
   "outputs": [],
   "source": [
    "# Exercise 9-8: Privileges\n",
    "# Write a separate Privileges class. The class should have one attribute, privileges,\n",
    "# that stores a list of strings as described in Exercise 9-7. Move the show_privileges() method\n",
    "# to this class. Make a Privileges instance as an attribute in the Admin class.\n",
    "# Create a new instance of Admin and use your method to show its privileges.\n",
    "\n",
    "# Here I will write the code and corresponding comments to complete the training tasks\n"
   ]
  },
  {
   "cell_type": "markdown",
   "id": "79fba904",
   "metadata": {},
   "source": [
    "## 9-9 Battery Upgrade"
   ]
  },
  {
   "cell_type": "code",
   "execution_count": null,
   "id": "ae4df770",
   "metadata": {},
   "outputs": [],
   "source": [
    "# Exercise 9-9: Battery Upgrade\n",
    "# Use the final version of electric_car.py from this section.\n",
    "# Add a method to the Battery class called upgrade_battery().\n",
    "# This method should check the battery size and set the capacity to 100 if it isn't already.\n",
    "# Make an electric car with a default battery size, call get_range() once,\n",
    "# and then call get_range() a second time after upgrading the battery.\n",
    "# You should see an increase in the car's range.\n",
    "\n",
    "# Here I will write the code and corresponding comments to complete the training tasks\n"
   ]
  },
  {
   "cell_type": "markdown",
   "id": "045d55be",
   "metadata": {},
   "source": [
    "## 9-10 Imported Restaurant"
   ]
  },
  {
   "cell_type": "code",
   "execution_count": null,
   "id": "154d320a",
   "metadata": {},
   "outputs": [],
   "source": [
    "# Exercise 9-10: Imported Restaurant\n",
    "# Using your latest Restaurant class, store it in a module.\n",
    "# Make a separate file that imports Restaurant. Make a Restaurant instance,\n",
    "# and call one of Restaurant's methods to show that the import statement is working properly.\n",
    "\n",
    "# Here I will write the code and corresponding comments to complete the training tasks\n"
   ]
  },
  {
   "cell_type": "markdown",
   "id": "e3c60bc8",
   "metadata": {},
   "source": [
    "## 9-11 Imported Admin"
   ]
  },
  {
   "cell_type": "code",
   "execution_count": null,
   "id": "27be39f0",
   "metadata": {},
   "outputs": [],
   "source": [
    "# Exercise 9-11: Imported Admin\n",
    "# Start with your work from Exercise 9-8 (page 173). Store the classes User, Privileges,\n",
    "# and Admin in one module. Create a separate file, make an Admin instance,\n",
    "# and call show_privileges() to show that everything is working correctly.\n",
    "\n",
    "# Here I will write the code and corresponding comments to complete the training tasks\n"
   ]
  },
  {
   "cell_type": "markdown",
   "id": "74565f1e",
   "metadata": {},
   "source": [
    "## 9-12 Multiple Modules"
   ]
  },
  {
   "cell_type": "code",
   "execution_count": null,
   "id": "daacad44",
   "metadata": {},
   "outputs": [],
   "source": [
    "# Exercise 9-12: Multiple Modules\n",
    "# Store the User class in one module, and store the Privileges and Admin classes in a separate module.\n",
    "# In a separate file, create an Admin instance and call show_privileges() to show that\n",
    "# everything is still working correctly.\n",
    "\n",
    "# Here I will write the code and corresponding comments to complete the training tasks\n"
   ]
  },
  {
   "cell_type": "markdown",
   "id": "fcbadc43",
   "metadata": {},
   "source": [
    "## 9-13 Dice"
   ]
  },
  {
   "cell_type": "code",
   "execution_count": null,
   "id": "42dfdfac",
   "metadata": {},
   "outputs": [],
   "source": [
    "# Exercise 9-13: Dice\n",
    "# Make a class Die with one attribute called sides, which has a default value of 6.\n",
    "# Write a method called roll_die() that prints a random number between 1 and the number of sides the die has.\n",
    "# Make a 6-sided die and roll it 10 times.\n",
    "# Make a 10-sided die and a 20-sided die. Roll each die 10 times.\n",
    "\n",
    "# Here I will write the code and corresponding comments to complete the training tasks\n"
   ]
  },
  {
   "cell_type": "markdown",
   "id": "d1ebbcfd",
   "metadata": {},
   "source": [
    "## 9-14 Lottery"
   ]
  },
  {
   "cell_type": "code",
   "execution_count": null,
   "id": "3319339a",
   "metadata": {},
   "outputs": [],
   "source": [
    "# Exercise 9-14: Lottery\n",
    "# Make a list or tuple containing a series of 10 numbers and five letters.\n",
    "# Randomly select four numbers or letters from the list and print a message saying\n",
    "# that any ticket matching these four numbers or letters wins a prize.\n",
    "\n",
    "# Here I will write the code and corresponding comments to complete the training tasks\n"
   ]
  },
  {
   "cell_type": "markdown",
   "id": "ef5df71e",
   "metadata": {},
   "source": [
    "## 9-15 Lottery Analysis"
   ]
  },
  {
   "cell_type": "code",
   "execution_count": null,
   "id": "cebe43ff",
   "metadata": {},
   "outputs": [],
   "source": [
    "# Exercise 9-15: Lottery Analysis\n",
    "# You can use a loop to see how hard it might be to win the kind of lottery you just modeled.\n",
    "# Make a list or tuple called my_ticket. Write a loop that keeps pulling numbers until\n",
    "# your ticket wins. Print a message reporting how many times the loop had to run\n",
    "# to give you a winning ticket.\n",
    "\n",
    "# Here I will write the code and corresponding comments to complete the training tasks\n"
   ]
  },
  {
   "cell_type": "markdown",
   "id": "bf7bd18a",
   "metadata": {},
   "source": [
    "## 9-16 Python Module of the Week"
   ]
  },
  {
   "cell_type": "code",
   "execution_count": null,
   "id": "9ffdbc5c",
   "metadata": {},
   "outputs": [],
   "source": [
    "# Exercise 9-16: Python Module of the Week\n",
    "# One excellent resource for exploring the Python standard library is a site called Python Module\n",
    "# of the Week. Go to https://pymotw.com/ and look at the table of contents.\n",
    "# Find a module that looks interesting to you and read about it, perhaps starting with\n",
    "# the random module.\n",
    "\n",
    "# Here I will write the code and corresponding comments to complete the training tasks\n"
   ]
  },
  {
   "cell_type": "markdown",
   "id": "4b0228ec",
   "metadata": {},
   "source": [
    "---\n",
    "\n",
    "## Summary\n",
    "\n",
    "Congratulations! You've completed all the exercises for Chapter 9 on Classes. You should now be comfortable with:\n",
    "\n",
    "- Creating classes with the `class` keyword\n",
    "- Defining `__init__()` methods to initialize instances\n",
    "- Creating instance attributes and methods\n",
    "- Using inheritance to create specialized classes\n",
    "- Overriding methods in child classes\n",
    "- Creating instances as attributes of other classes\n",
    "- Importing classes from modules\n",
    "- Working with the Python standard library\n",
    "\n",
    "**Key Concepts Practiced:**\n",
    "- Class definition syntax: `class ClassName:`\n",
    "- Instance creation and attribute access\n",
    "- Method definition and calling\n",
    "- Inheritance syntax: `class ChildClass(ParentClass):`\n",
    "- The `super()` function for accessing parent methods\n",
    "- Composition: using instances as attributes\n",
    "- Module organization and imports\n",
    "\n",
    "**Important Principles:**\n",
    "- Classes model real-world objects and concepts\n",
    "- Use descriptive class and method names\n",
    "- Keep classes focused on a single responsibility\n",
    "- Use inheritance to model \"is-a\" relationships\n",
    "- Use composition to model \"has-a\" relationships\n",
    "- Organize related classes into modules\n",
    "\n",
    "**Next Steps:**\n",
    "- Review any exercises you found challenging\n",
    "- Practice modeling real-world objects as classes\n",
    "- Experiment with more complex inheritance hierarchies\n",
    "- Move on to Chapter 10: Files and Exceptions\n",
    "\n",
    "---\n",
    "\n",
    "*Note: Classes are the foundation of object-oriented programming in Python. They help you organize code, model complex systems, and create reusable components. Master these concepts as they'll be essential for larger projects!*"
   ]
  },
  {
   "cell_type": "markdown",
   "id": "9baa4921",
   "metadata": {},
   "source": [
    "---\n",
    "\n",
    "> Exercises adapted from _Python Crash Course_ by Eric Matthes  \n",
    "> Structured and formatted by Alexander W. Brolin for interactive learning."
   ]
  }
 ],
 "metadata": {
  "language_info": {
   "name": "python"
  }
 },
 "nbformat": 4,
 "nbformat_minor": 5
}
